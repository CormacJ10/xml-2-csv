{
 "cells": [
  {
   "cell_type": "code",
   "execution_count": 110,
   "id": "84ddb1fc",
   "metadata": {},
   "outputs": [],
   "source": [
    "# Importing the required libraries\n",
    "import xml.etree.ElementTree as Xet\n",
    "import pandas as pd\n",
    "  \n",
    "#inital setup\n",
    "headers=[\"100\", \"200\", \"300\", \"900\"]\n",
    "cols=[]\n",
    "rows=[]\n",
    "eOf=[]\n",
    "header_count=0\n",
    "interval_counter=0\n",
    "buffer_counter=0\n",
    "trailer_count=0\n",
    "interval_data=\"\"\n",
    "\n",
    "def interval_checker(x):\n",
    "    \n",
    "    #check if empty string\n",
    "    if(x != \"\" and len(eOf) != 1):\n",
    "        row_string=x.split(\",\")\n",
    "        if(row_string[0] == \"100\" and len(cols) != 1):\n",
    "            #header_count += 1\n",
    "            cols.append(row_string)\n",
    "        #print(row_string)\n",
    "        \n",
    "        if(row_string[0] == \"200\" and buffer_counter == 0):\n",
    "            rows.append(x)\n",
    "        \n",
    "        #to ensure the pattern is met, 1 '200' row and N '300' rows, a counter is placed.\n",
    "        if(row_string[0] == \"300\" and len(rows) == 1):\n",
    "            rows.append(x)\n",
    "            buffer_counter =len(rows)\n",
    "            \n",
    "        \n",
    "        #check if 900 or EOF\n",
    "        if(row_string[0] == \"900\"):\n",
    "            eOf.append(x)\n",
    "            \n",
    "    #return True\n",
    "  \n",
    "# Parsing the XML file\n",
    "xmlparse = Xet.parse('testfile.xml')\n",
    "root = xmlparse.getroot()\n",
    "transactions = root[1]\n",
    "transact = transactions[0][0][0]\n",
    "#interval_data = transactions.findall('CSVIntervalData')\n",
    "interval_data = transact.text.split(\"\\n\")\n",
    "\n",
    "#print(interval_data)\n",
    "for i in interval_data:\n",
    "    interval_checker(i)\n",
    "    #print(i)\n",
    "  \n",
    "#df = pd.DataFrame(rows, columns=cols)#for version 2\n",
    "\n",
    "# Writing dataframe to csv\n",
    "#df.to_csv('output.csv')\n"
   ]
  },
  {
   "cell_type": "code",
   "execution_count": null,
   "id": "2893f219",
   "metadata": {},
   "outputs": [],
   "source": []
  },
  {
   "cell_type": "code",
   "execution_count": null,
   "id": "1f43f0d8",
   "metadata": {},
   "outputs": [],
   "source": []
  },
  {
   "cell_type": "code",
   "execution_count": null,
   "id": "e82d06b9",
   "metadata": {},
   "outputs": [],
   "source": []
  },
  {
   "cell_type": "code",
   "execution_count": null,
   "id": "70332628",
   "metadata": {},
   "outputs": [],
   "source": []
  }
 ],
 "metadata": {
  "kernelspec": {
   "display_name": "Python 3 (ipykernel)",
   "language": "python",
   "name": "python3"
  },
  "language_info": {
   "codemirror_mode": {
    "name": "ipython",
    "version": 3
   },
   "file_extension": ".py",
   "mimetype": "text/x-python",
   "name": "python",
   "nbconvert_exporter": "python",
   "pygments_lexer": "ipython3",
   "version": "3.9.7"
  }
 },
 "nbformat": 4,
 "nbformat_minor": 5
}

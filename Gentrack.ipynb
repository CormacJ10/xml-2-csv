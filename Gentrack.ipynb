{
 "cells": [
  {
   "cell_type": "code",
   "execution_count": null,
   "id": "033167b5",
   "metadata": {},
   "outputs": [],
   "source": [
    "# Importing the required libraries\n",
    "import xml.etree.ElementTree as Xet\n",
    "import pandas as pd\n",
    "  \n",
    "#inital setup\n",
    "headers = [\"100\", \"200\", \"300\", \"900\"]\n",
    "cols = []\n",
    "rows = []\n",
    "header_count = 0\n",
    "interval_counter = 0\n",
    "trailer_count = 0\n",
    "interval_data = \"\"\n",
    "is_col = \"no\"\n",
    "is_row_header = False\n",
    "is_new_line = False\n",
    "\n",
    "def interval_checker(x):\n",
    "    #cols check\n",
    "    if(x == 100 or x ==\"100\"):\n",
    "        header_count += 1\n",
    "        \n",
    "    while(x != \"\\n300\"):\n",
    "        print(x)\n",
    "    \n",
    "    print(cols)\n",
    "    return True\n",
    "  \n",
    "# Parsing the XML file\n",
    "xmlparse = Xet.parse('testfile.xml')\n",
    "root = xmlparse.getroot()\n",
    "transactions = root[1]\n",
    "transact = transactions[0][0][0]\n",
    "interval_data = transact.text.split(\",\")\n",
    "\n",
    "print(interval_data)\n",
    "for i in interval_data:\n",
    "    interval_checker(i)\n",
    "    #print(i)\n",
    "  \n",
    "#df = pd.DataFrame(rows, columns=cols)#for version 2\n",
    "\n",
    "# Writing dataframe to csv\n",
    "#df.to_csv('output.csv')\n"
   ]
  },
  {
   "cell_type": "code",
   "execution_count": null,
   "id": "6303a1f2",
   "metadata": {},
   "outputs": [],
   "source": []
  },
  {
   "cell_type": "code",
   "execution_count": null,
   "id": "ea7a90ab",
   "metadata": {},
   "outputs": [],
   "source": []
  },
  {
   "cell_type": "code",
   "execution_count": null,
   "id": "0e63271d",
   "metadata": {},
   "outputs": [],
   "source": []
  },
  {
   "cell_type": "code",
   "execution_count": null,
   "id": "82e97ab7",
   "metadata": {},
   "outputs": [],
   "source": []
  }
 ],
 "metadata": {
  "kernelspec": {
   "display_name": "Python 3 (ipykernel)",
   "language": "python",
   "name": "python3"
  },
  "language_info": {
   "codemirror_mode": {
    "name": "ipython",
    "version": 3
   },
   "file_extension": ".py",
   "mimetype": "text/x-python",
   "name": "python",
   "nbconvert_exporter": "python",
   "pygments_lexer": "ipython3",
   "version": "3.9.7"
  }
 },
 "nbformat": 4,
 "nbformat_minor": 5
}
